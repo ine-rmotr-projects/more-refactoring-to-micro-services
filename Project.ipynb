{
 "cells": [
  {
   "cell_type": "markdown",
   "metadata": {},
   "source": [
    "![ine-divider](https://user-images.githubusercontent.com/7065401/92672068-398e8080-f2ee-11ea-82d6-ad53f7feb5c0.png)\n",
    "<hr>\n",
    "\n",
    "### Secure RESTful APIs using Python\n",
    "\n",
    "# More refactoring to micro-services\n",
    "\n",
    "For this project, we use a version of the small `fractal` package that is used in a number of other INE courses.  We would like to provide all of these capabilities as a collection of small servers that might operate independently, each potentially running on different nodes of a cluster.  All the code is in files within the `fractal/` subdirectory."
   ]
  },
  {
   "cell_type": "markdown",
   "metadata": {},
   "source": [
    "![orange-divider](https://user-images.githubusercontent.com/7065401/92672455-187a5f80-f2ef-11ea-890c-40be9474f7b7.png)"
   ]
  },
  {
   "cell_type": "markdown",
   "metadata": {},
   "source": [
    "## Part 1\n",
    "\n",
    "**Communicating arrays**\n",
    "\n",
    "In the project for the last lesson, you created routes that would generate fractals as PNG images.  In that case, what you were asked to do was a simiplification of the structure of the library.  Specifically, what the library really generates are **NumPy arrays** that represent fractals; the visualization is an optional secondary step.  You were not aked to do that to skip the need for transmitting data in formats other than as a PNG image.\n",
    "\n",
    "However, a microservice architecture should not do everything at one route.  Rendering is separate from generation, and moreover, you'd like to be able to work with the numeric arrays directly at times.  One note, however, is that rendering each single complex point on a separate node/service is going to be hugely inefficient.  The appropriate level of granularity is the \"canvas\" (i.e. 2-D integer array of points that is potentially visualized)."
   ]
  },
  {
   "cell_type": "code",
   "execution_count": 1,
   "metadata": {},
   "outputs": [
    {
     "data": {
      "text/plain": [
       "<function fractal.julia.julia(z: complex, c: complex = (-0.1+0.65j), orbits: int = 255) -> int>"
      ]
     },
     "execution_count": 1,
     "metadata": {},
     "output_type": "execute_result"
    }
   ],
   "source": [
    "from fractal.julia import julia\n",
    "julia"
   ]
  },
  {
   "cell_type": "code",
   "execution_count": 2,
   "metadata": {},
   "outputs": [
    {
     "data": {
      "text/plain": [
       "<function fractal.visualize.make_canvas(fn: collections.abc.Callable, x: float, y: float, size: float, pixels: int, kws: dict = {}) -> numpy.ndarray>"
      ]
     },
     "execution_count": 2,
     "metadata": {},
     "output_type": "execute_result"
    }
   ],
   "source": [
    "from fractal.visualize import make_canvas, visualize\n",
    "make_canvas"
   ]
  },
  {
   "cell_type": "code",
   "execution_count": 3,
   "metadata": {},
   "outputs": [
    {
     "data": {
      "text/plain": [
       "array([[ 2,  2,  2, ..., 82, 81, 81],\n",
       "       [ 2,  2,  2, ..., 81, 81, 81],\n",
       "       [ 2,  2,  2, ..., 81, 81, 81],\n",
       "       ...,\n",
       "       [ 1,  1,  1, ...,  4,  4,  4],\n",
       "       [ 1,  1,  1, ...,  4,  4,  4],\n",
       "       [ 1,  1,  1, ...,  4,  4,  4]], dtype=uint8)"
      ]
     },
     "execution_count": 3,
     "metadata": {},
     "output_type": "execute_result"
    }
   ],
   "source": [
    "canvas = make_canvas(julia, -0.85, 0.5, 1, 400)\n",
    "canvas"
   ]
  },
  {
   "cell_type": "markdown",
   "metadata": {},
   "source": [
    "For this task, create a service `solution1.py` that has a route `/julia` which will take the parameters necessary to return an integer array.  Rendering to a graphic format is left to the next task, at this step you only care about generating the fractal in the first place."
   ]
  },
  {
   "cell_type": "markdown",
   "metadata": {},
   "source": [
    "![orange-divider](https://user-images.githubusercontent.com/7065401/92672455-187a5f80-f2ef-11ea-890c-40be9474f7b7.png)\n",
    "\n",
    "## Part 2\n",
    "\n",
    "**Visualizing arrays**\n",
    "\n",
    "By using a common format like JSON to communicate arrays, this potentially allows canvases created by other means to take advantage of a `/visualize` route on a micro-service.  For this task, you wish to accept a JSON request body of the following form and return a rendered image:\n",
    "\n",
    "```\n",
    "{\"format\": \"tiff\", \"arr\": [[1, 2, 3], [4, 5, 6], [7, 8, 9]]}\n",
    "```\n",
    "\n",
    "Your service should be able to return any of PNG, TIFF, or GIF, as requested."
   ]
  },
  {
   "cell_type": "markdown",
   "metadata": {},
   "source": [
    "![orange-divider](https://user-images.githubusercontent.com/7065401/92672455-187a5f80-f2ef-11ea-890c-40be9474f7b7.png)"
   ]
  }
 ],
 "metadata": {
  "kernelspec": {
   "display_name": "Python 3",
   "language": "python",
   "name": "python3"
  },
  "language_info": {
   "codemirror_mode": {
    "name": "ipython",
    "version": 3
   },
   "file_extension": ".py",
   "mimetype": "text/x-python",
   "name": "python",
   "nbconvert_exporter": "python",
   "pygments_lexer": "ipython3",
   "version": "3.8.6"
  }
 },
 "nbformat": 4,
 "nbformat_minor": 4
}
